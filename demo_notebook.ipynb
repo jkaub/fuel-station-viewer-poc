{
 "cells": [
  {
   "cell_type": "code",
   "execution_count": 1,
   "id": "fb74954f",
   "metadata": {
    "scrolled": true
   },
   "outputs": [],
   "source": [
    "from station_widget.station_widget import StationWidget"
   ]
  },
  {
   "cell_type": "code",
   "execution_count": 2,
   "id": "07ecf65c",
   "metadata": {},
   "outputs": [
    {
     "data": {
      "application/vnd.jupyter.widget-view+json": {
       "model_id": "a6b95c3ddd8d423aa92a0287d92cbb9a",
       "version_major": 2,
       "version_minor": 0
      },
      "text/plain": [
       "VBox(children=(Text(value='', placeholder='Postal Code'), HBox(children=(Dropdown(description='Fuel type', ind…"
      ]
     },
     "metadata": {},
     "output_type": "display_data"
    }
   ],
   "source": [
    "StationWidget().display()"
   ]
  },
  {
   "cell_type": "code",
   "execution_count": 4,
   "id": "29451f11",
   "metadata": {},
   "outputs": [],
   "source": [
    "import pipreqs"
   ]
  },
  {
   "cell_type": "code",
   "execution_count": null,
   "id": "0d96e201",
   "metadata": {},
   "outputs": [],
   "source": [
    "pipreqs"
   ]
  }
 ],
 "metadata": {
  "kernelspec": {
   "display_name": "Python 3 (ipykernel)",
   "language": "python",
   "name": "python3"
  },
  "language_info": {
   "codemirror_mode": {
    "name": "ipython",
    "version": 3
   },
   "file_extension": ".py",
   "mimetype": "text/x-python",
   "name": "python",
   "nbconvert_exporter": "python",
   "pygments_lexer": "ipython3",
   "version": "3.9.15"
  }
 },
 "nbformat": 4,
 "nbformat_minor": 5
}
