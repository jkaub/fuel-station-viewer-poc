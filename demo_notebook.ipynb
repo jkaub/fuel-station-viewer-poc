{
 "cells": [
  {
   "cell_type": "code",
   "execution_count": null,
   "id": "fb74954f",
   "metadata": {
    "scrolled": true
   },
   "outputs": [],
   "source": [
    "from station_widget.station_widget import StationWidget"
   ]
  },
  {
   "cell_type": "code",
   "execution_count": null,
   "id": "07ecf65c",
   "metadata": {},
   "outputs": [],
   "source": [
    "StationWidget().display()"
   ]
  }
 ],
 "metadata": {
  "kernelspec": {
   "display_name": "Python 3 (ipykernel)",
   "language": "python",
   "name": "python3"
  },
  "language_info": {
   "codemirror_mode": {
    "name": "ipython",
    "version": 3
   },
   "file_extension": ".py",
   "mimetype": "text/x-python",
   "name": "python",
   "nbconvert_exporter": "python",
   "pygments_lexer": "ipython3",
   "version": "3.9.15"
  }
 },
 "nbformat": 4,
 "nbformat_minor": 5
}
